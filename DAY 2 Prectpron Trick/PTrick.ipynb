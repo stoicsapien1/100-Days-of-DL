{
 "cells": [
  {
   "cell_type": "code",
   "execution_count": 1,
   "id": "0a80f517",
   "metadata": {},
   "outputs": [],
   "source": [
    "from sklearn.datasets import make_classification\n",
    "import numpy as np\n",
    "X,y=make_classification(n_samples=100,n_features=2,n_informative=1,n_redundant=0,n_classes=2,n_clusters_per_class=1,random_state=41,hypercube=False,class_sep=10)"
   ]
  },
  {
   "cell_type": "code",
   "execution_count": 11,
   "id": "77bbe4bf",
   "metadata": {},
   "outputs": [],
   "source": [
    "import matplotlib.pyplot as plt\n",
    "import numpy as np"
   ]
  },
  {
   "cell_type": "code",
   "execution_count": 3,
   "id": "a4e06147",
   "metadata": {},
   "outputs": [
    {
     "data": {
      "text/plain": [
       "array([[ 0.19924745, -0.11697552],\n",
       "       [-0.24882029, -0.73115232],\n",
       "       [-0.3544904 , -0.7081059 ],\n",
       "       [-1.59086506, -2.01199214],\n",
       "       [-0.20083951,  1.63493163],\n",
       "       [-0.83241122,  0.15599044],\n",
       "       [-1.79207014,  1.07782053],\n",
       "       [ 0.0856607 ,  0.80626713],\n",
       "       [-0.55865299,  0.74859527],\n",
       "       [-1.95974262,  0.75152794],\n",
       "       [-1.77828947, -0.90114581],\n",
       "       [-1.77985853, -0.1815243 ],\n",
       "       [-0.02194151, -2.98092432],\n",
       "       [ 0.80563431,  1.20500136],\n",
       "       [-1.82701214,  0.78302407],\n",
       "       [ 0.38730728,  0.42968688],\n",
       "       [-0.14108668, -0.73229726],\n",
       "       [-1.87955941, -0.83930476],\n",
       "       [-0.18232911,  0.83727062],\n",
       "       [-1.77059533, -0.10255323],\n",
       "       [-2.27658028,  0.65867001],\n",
       "       [-2.06519502,  0.92649819],\n",
       "       [-1.31690551,  0.10216193],\n",
       "       [ 1.61043259,  0.46886454],\n",
       "       [-1.21650394,  0.45432938],\n",
       "       [ 0.6139723 ,  1.8613386 ],\n",
       "       [-1.78760957, -0.79255991],\n",
       "       [-1.04149161, -1.0004391 ],\n",
       "       [-2.40067584, -0.53814137],\n",
       "       [-1.80383452,  0.44027716],\n",
       "       [-1.44075613,  0.27047889],\n",
       "       [ 1.34989978, -0.75869267],\n",
       "       [ 0.22520167,  0.6802322 ],\n",
       "       [ 0.53688527,  0.17018845],\n",
       "       [ 0.55483459, -1.01121977],\n",
       "       [-0.32178185, -0.8394709 ],\n",
       "       [-0.98821248,  0.90327412],\n",
       "       [ 0.67394805,  1.16981747],\n",
       "       [-1.60913592,  0.53461406],\n",
       "       [ 0.75727194, -0.22100631],\n",
       "       [-1.32591376, -0.64584571],\n",
       "       [-0.91783293,  0.21243302],\n",
       "       [-1.35578147,  0.98654083],\n",
       "       [ 1.46869659,  0.67382928],\n",
       "       [-0.80540713, -0.11323563],\n",
       "       [ 1.08059816,  0.91694693],\n",
       "       [ 0.14667326,  0.3645213 ],\n",
       "       [-1.37324548, -0.78470874],\n",
       "       [-1.09742089, -1.48004137],\n",
       "       [-0.92017476,  0.72931763],\n",
       "       [ 0.22020513, -0.60000139],\n",
       "       [-0.3515292 ,  0.14720034],\n",
       "       [-1.42135667,  0.35215601],\n",
       "       [ 0.94415309,  0.17388705],\n",
       "       [ 2.14488191, -0.17162755],\n",
       "       [-1.52699536,  0.03763193],\n",
       "       [ 1.0347932 ,  0.48360467],\n",
       "       [-2.05551135, -0.07909256],\n",
       "       [-1.33241395,  0.06158897],\n",
       "       [-0.10615042, -1.20413846],\n",
       "       [ 0.89910594,  0.77324391],\n",
       "       [-1.32152694,  0.7640092 ],\n",
       "       [-1.96489671,  1.57200032],\n",
       "       [ 0.97099786,  0.47296516],\n",
       "       [ 0.0520771 ,  0.0642074 ],\n",
       "       [-0.66393984,  1.52469135],\n",
       "       [-1.8937672 , -2.1450828 ],\n",
       "       [ 0.5941446 , -0.7701428 ],\n",
       "       [-1.55261523,  0.84455766],\n",
       "       [-0.9998803 ,  1.29753064],\n",
       "       [-2.39664251, -0.84276652],\n",
       "       [ 0.27537438,  2.0615874 ],\n",
       "       [ 1.0723376 , -0.3036533 ],\n",
       "       [-1.4577388 , -0.1656085 ],\n",
       "       [ 1.06667457,  1.16969713],\n",
       "       [ 0.67498344, -0.3038555 ],\n",
       "       [-2.18254559, -0.4788978 ],\n",
       "       [ 0.96395115,  0.28128262],\n",
       "       [-1.3155857 ,  0.70412341],\n",
       "       [ 0.7158603 ,  0.3757601 ],\n",
       "       [-0.16186654,  0.97247545],\n",
       "       [ 1.341869  ,  0.56868381],\n",
       "       [-1.46023043, -0.39767934],\n",
       "       [ 1.37645492, -1.08933729],\n",
       "       [-0.35770727, -1.81663939],\n",
       "       [-1.8640534 ,  1.41775924],\n",
       "       [-1.7826468 ,  0.27098296],\n",
       "       [-1.18927817, -0.56186639],\n",
       "       [ 0.26654845,  0.42168159],\n",
       "       [-1.28809059, -2.95373116],\n",
       "       [ 0.75163482,  0.19492133],\n",
       "       [ 1.16254252, -0.04578681],\n",
       "       [-1.15890056, -0.18860967],\n",
       "       [-1.48693688,  0.44635682],\n",
       "       [ 0.75292818, -1.49814775],\n",
       "       [-2.12332717,  0.66198774],\n",
       "       [-1.53599817,  0.07153265],\n",
       "       [-1.46034714,  0.32323638],\n",
       "       [ 0.83626582, -0.34574201],\n",
       "       [-0.26570627,  0.06499922]])"
      ]
     },
     "execution_count": 3,
     "metadata": {},
     "output_type": "execute_result"
    }
   ],
   "source": [
    "X"
   ]
  },
  {
   "cell_type": "code",
   "execution_count": 4,
   "id": "5303f3df",
   "metadata": {},
   "outputs": [
    {
     "data": {
      "text/plain": [
       "array([1, 1, 1, 0, 1, 0, 0, 1, 1, 0, 0, 0, 1, 1, 0, 1, 1, 0, 1, 0, 0, 0,\n",
       "       0, 1, 0, 1, 0, 0, 0, 0, 0, 1, 1, 1, 1, 1, 0, 1, 0, 1, 0, 0, 0, 1,\n",
       "       0, 1, 1, 0, 0, 0, 1, 1, 0, 1, 1, 0, 1, 0, 0, 1, 1, 0, 0, 1, 1, 1,\n",
       "       0, 1, 0, 0, 0, 1, 1, 0, 1, 1, 0, 1, 0, 1, 1, 1, 0, 1, 1, 0, 0, 0,\n",
       "       1, 0, 1, 1, 0, 0, 1, 0, 0, 0, 1, 1])"
      ]
     },
     "execution_count": 4,
     "metadata": {},
     "output_type": "execute_result"
    }
   ],
   "source": [
    "y"
   ]
  },
  {
   "cell_type": "code",
   "execution_count": 10,
   "id": "79f323e4",
   "metadata": {},
   "outputs": [
    {
     "data": {
      "text/plain": [
       "<matplotlib.collections.PathCollection at 0x2204934a020>"
      ]
     },
     "execution_count": 10,
     "metadata": {},
     "output_type": "execute_result"
    },
    {
     "data": {
      "image/png": "[encoded data removed]",
      "text/plain": [
       "<Figure size 1000x600 with 1 Axes>"
      ]
     },
     "metadata": {},
     "output_type": "display_data"
    }
   ],
   "source": [
    "plt.figure(figsize=(10,6))\n",
    "plt.scatter(x=X[:,0],y=X[:,1],c=y,cmap=\"winter\",s=10)"
   ]
  },
  {
   "cell_type": "code",
   "execution_count": 12,
   "id": "2c7c0227",
   "metadata": {},
   "outputs": [],
   "source": [
    "def perceptron(X,y):\n",
    "    X=np.insert(X,0,1,axis=1)\n",
    "    weights=np.ones(X.shape[1])\n",
    "    lr=0.1\n",
    "    for i in range(1000):\n",
    "        j=np.random.randint(0,100)\n",
    "        y_hat=step(np.dot(X[j],weights))\n",
    "        weights=weights+lr*(y[j]-y_hat)*X[j]\n",
    "    return weights[0],weights[1:]"
   ]
  },
  {
   "cell_type": "code",
   "execution_count": 14,
   "id": "68734c19",
   "metadata": {},
   "outputs": [],
   "source": [
    "def step(z):\n",
    "    return 1 if z>0 else 0"
   ]
  },
  {
   "cell_type": "code",
   "execution_count": 15,
   "id": "b4f32494",
   "metadata": {},
   "outputs": [],
   "source": [
    "intercept,coef=perceptron(X,y)"
   ]
  },
  {
   "cell_type": "code",
   "execution_count": 16,
   "id": "23645b9a",
   "metadata": {},
   "outputs": [
    {
     "data": {
      "text/plain": [
       "1.0"
      ]
     },
     "execution_count": 16,
     "metadata": {},
     "output_type": "execute_result"
    }
   ],
   "source": [
    "intercept"
   ]
  },
  {
   "cell_type": "code",
   "execution_count": 17,
   "id": "be51c822",
   "metadata": {},
   "outputs": [
    {
     "data": {
      "text/plain": [
       "array([1.33135506, 0.02810882])"
      ]
     },
     "execution_count": 17,
     "metadata": {},
     "output_type": "execute_result"
    }
   ],
   "source": [
    "coef"
   ]
  },
  {
   "cell_type": "code",
   "execution_count": 18,
   "id": "4b1106e7",
   "metadata": {},
   "outputs": [],
   "source": [
    "m=-(coef[0]/coef[1])\n",
    "b=-(intercept/coef[1])"
   ]
  },
  {
   "cell_type": "code",
   "execution_count": 19,
   "id": "edeca872",
   "metadata": {},
   "outputs": [],
   "source": [
    "x_input=np.linspace(-3,3,100)"
   ]
  },
  {
   "cell_type": "code",
   "execution_count": 20,
   "id": "f3138fe0",
   "metadata": {},
   "outputs": [],
   "source": [
    "y_input=m*x_input+b"
   ]
  },
  {
   "cell_type": "code",
   "execution_count": 23,
   "id": "5a909d57",
   "metadata": {},
   "outputs": [
    {
     "data": {
      "text/plain": [
       "(-3.0, 2.0)"
      ]
     },
     "execution_count": 23,
     "metadata": {},
     "output_type": "execute_result"
    },
    {
     "data": {
      "image/png": "[encoded data removed]",
      "text/plain": [
       "<Figure size 1000x600 with 1 Axes>"
      ]
     },
     "metadata": {},
     "output_type": "display_data"
    }
   ],
   "source": [
    "plt.figure(figsize=(10,6))\n",
    "plt.plot(x_input,y_input,color=\"red\",linewidth=3)\n",
    "plt.scatter(x=X[:,0],y=X[:,1],c=y,cmap=\"winter\",s=10)\n",
    "plt.ylim(-3,2)"
   ]
  }
 ],
 "metadata": {
  "kernelspec": {
   "display_name": "Python 3 (ipykernel)",
   "language": "python",
   "name": "python3"
  },
  "language_info": {
   "codemirror_mode": {
    "name": "ipython",
    "version": 3
   },
   "file_extension": ".py",
   "mimetype": "text/x-python",
   "name": "python",
   "nbconvert_exporter": "python",
   "pygments_lexer": "ipython3",
   "version": "3.10.0"
  }
 },
 "nbformat": 4,
 "nbformat_minor": 5
}
